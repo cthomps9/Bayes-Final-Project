{
 "cells": [
  {
   "cell_type": "markdown",
   "metadata": {},
   "source": [
    "# Mini-project I: Parameter estimation for a toy model of an EFT"
   ]
  },
  {
   "cell_type": "markdown",
   "metadata": {},
   "source": [
    "The overall project goal is to reproduce various results in this paper: [*Bayesian parameter estimation for effective field theories*](https://arxiv.org/abs/1511.03618).  It's a long paper, so don't try to read all of it!  (At least not now.)  We'll guide you to the relevant parts.\n",
    "\n",
    "The paper uses toy models for effective field theories, namely Taylor series of some specified functions, to present guidelines for parameter estimation. This will also be a check of whether you can follow (or give you practice on) Bayesian statistics discussions in the physics literature.\n",
    "\n",
    "You'll find summaries in section II that touch on topics we have discussed and will discuss.  The function\n",
    "$$\n",
    "g(x) = \\left(\\frac12 + \\tan\\left(\\frac{\\pi}{2}x\\right)\\right)^2\n",
    "$$\n",
    "represents the true, underlying theory.  It has a Taylor expansion\n",
    "$$\n",
    "g(x) = 0.25 + 1.57x + 2.47x^2 + 1.29 x^3 + \\cdots\n",
    "$$\n",
    "Our model for an EFT for this \"theory\" is\n",
    "$$\n",
    "g_{\\rm th}(x) \\equiv \\sum_{i=0}^k a_i x^i\n",
    "$$\n",
    "and your general task is to fit 1, 2, 3, ... of the constants $a_i$, and analyze the results.\n",
    "**Your primary goal is to reproduce and interpret Table III on page 12 of the arXiv preprint.  A secondary goal is to reproduce Figure 1 of the same paper.**  You should use the emcee sampler and corner to make plots."
   ]
  },
  {
   "cell_type": "markdown",
   "metadata": {},
   "source": [
    "<div style=\"float:center;\"><img src=\"summary_of_project.png\" width=700px></div>\n"
   ]
  },
  {
   "cell_type": "markdown",
   "metadata": {},
   "source": [
    "### Learning goals:\n",
    "* Apply and extend the Bayesian parameter estimation ideas and techniques from the course.\n",
    "* Explore the impact of control features:  dependence on how much data is used and how precise it is; apply an *informative* prior.\n",
    "* Learn about some diagnostics for Bayesian parameter estimation.\n",
    "* Try out sampling on a controlled problem."
   ]
  },
  {
   "cell_type": "markdown",
   "metadata": {},
   "source": [
    "### Suggestions for how to proceed:\n",
    "* Follow the lead of the notebooks [Gaussian noise](https://github.com/furnstahl/Physics-8805/blob/master/topics/bayesian-parameter-estimation/parameter_estimation_Gaussian_noise.ipynb) and [Fitting a straight line II [ipynb]](https://github.com/NuclearTalent/Bayes2019/blob/master/topics/why-bayes-is-better/parameter_estimation_fitting_straight_line_II.ipynb).\n",
    "* Define a function for the exact result plus noise, noting from the arXiv paper what type of noise is added and where the points are located (i.e., what values of $x$). \n",
    "* Define functions for the two choices of prior and for the likelihood.\n",
    "* Call emcee to sample the posteriors.\n",
    "* Use corner to create plots.  You can read the answers for the tables from the corner plots.\n",
    "* Don't try to do too much in your code at first (start with the lowest order in Table III). \n",
    "* Fill in the rest of Table III.\n",
    "* Generate figures for the lowest orders analogous to Figure 1 and then reproduce Figure 1.\n"
   ]
  },
  {
   "cell_type": "markdown",
   "metadata": {},
   "source": [
    "### Comments and suggestions\n",
    "* The 5% error is a *relative* error, meaning it is 0.05 times the data at that point.  This means if you generate a Gaussian random number `err` distributed with standard deviation 0.05, the value of sigma for the log likelihood is `sigma[i] = data[i] * err` (use the data, not the theory at `i`).\n",
    "* The `show_titles=True` option to corner will show central results and one-$\\sigma$ error limits on the projected posterior plots.\n",
    "* The `quantiles=[0.16, 0.5, 0.84]`option to corner adds the dashed vertical lines to the marginal posteriors on the diagonal. You can obviously change the quantiles if you want another credibility region.\n",
    "* The python command `np.percentile(samples, [16, 50, 84],axis=0)` might be useful to extract numerical values for the credibility region and the mean from a python array `samples`of shape (nsamples,ndimensions).\n",
    "* The example on [Fitting a Model to Data](https://emcee.readthedocs.io/en/v2.2.1/user/line/) from the emcee documentation may be useful to supplement the examples in the TALENT notebooks."
   ]
  },
  {
   "cell_type": "markdown",
   "metadata": {},
   "source": [
    "### Additional subtasks \n",
    "* Reproduce Figures 3 and 4, showing the predictions with error bands for the two priors compared to the true function.  You can use Matplotlib's `fill_between(x, y-error, y+error)` to make bands.  (Use the `alpha` keyword for `fill_between`, e.g., `alpha=0.5`, to make the bands more transparent.)\n",
    "* Reproduce Figures 5 (alternative prior and \"returning the prior\"), 6 (posterior for $\\overline a$), and 7 (\"relaxing to least squares\").  \n",
    "* Reproduce Figure 9 (sensitivity to choice of $x_{\\rm max}$)\n",
    "* Repeat analysis with same function but different data precision and/or quantity (number of data points).\n",
    "* Repeat analysis with a different function from the paper or invent your own function and analyze.\n"
   ]
  },
  {
   "cell_type": "markdown",
   "metadata": {},
   "source": [
    "# Python imports"
   ]
  },
  {
   "cell_type": "code",
   "execution_count": 1,
   "metadata": {},
   "outputs": [],
   "source": [
    "%matplotlib inline\n",
    "import numpy as np\n",
    "import matplotlib.pyplot as plt\n",
    "import seaborn; seaborn.set(\"talk\") \n",
    "import scipy.stats as stats\n",
    "from cycler import cycler\n",
    "from matplotlib.cm import get_cmap\n",
    "import emcee\n",
    "import corner\n",
    "from IPython.display import display, Math\n",
    "import pandas"
   ]
  },
  {
   "cell_type": "markdown",
   "metadata": {},
   "source": [
    "## The Data and the true result\n",
    "\n",
    "Let's start by defining the exact function and the data for the toy model."
   ]
  },
  {
   "cell_type": "code",
   "execution_count": 2,
   "metadata": {},
   "outputs": [
    {
     "name": "stdout",
     "output_type": "stream",
     "text": [
      "Table III\n"
     ]
    },
    {
     "data": {
      "text/html": [
       "<div>\n",
       "<style scoped>\n",
       "    .dataframe tbody tr th:only-of-type {\n",
       "        vertical-align: middle;\n",
       "    }\n",
       "\n",
       "    .dataframe tbody tr th {\n",
       "        vertical-align: top;\n",
       "    }\n",
       "\n",
       "    .dataframe thead th {\n",
       "        text-align: right;\n",
       "    }\n",
       "</style>\n",
       "<table border=\"1\" class=\"dataframe\">\n",
       "  <thead>\n",
       "    <tr style=\"text-align: right;\">\n",
       "      <th></th>\n",
       "      <th>x_data</th>\n",
       "      <th>y_data</th>\n",
       "      <th>dy_data</th>\n",
       "    </tr>\n",
       "  </thead>\n",
       "  <tbody>\n",
       "    <tr>\n",
       "      <th>0</th>\n",
       "      <td>0.03183</td>\n",
       "      <td>0.31694</td>\n",
       "      <td>0.015850</td>\n",
       "    </tr>\n",
       "    <tr>\n",
       "      <th>1</th>\n",
       "      <td>0.06366</td>\n",
       "      <td>0.33844</td>\n",
       "      <td>0.016920</td>\n",
       "    </tr>\n",
       "    <tr>\n",
       "      <th>2</th>\n",
       "      <td>0.09549</td>\n",
       "      <td>0.42142</td>\n",
       "      <td>0.021070</td>\n",
       "    </tr>\n",
       "    <tr>\n",
       "      <th>3</th>\n",
       "      <td>0.12732</td>\n",
       "      <td>0.57709</td>\n",
       "      <td>0.028850</td>\n",
       "    </tr>\n",
       "    <tr>\n",
       "      <th>4</th>\n",
       "      <td>0.15915</td>\n",
       "      <td>0.56218</td>\n",
       "      <td>0.028110</td>\n",
       "    </tr>\n",
       "    <tr>\n",
       "      <th>5</th>\n",
       "      <td>0.19099</td>\n",
       "      <td>0.68851</td>\n",
       "      <td>0.034430</td>\n",
       "    </tr>\n",
       "    <tr>\n",
       "      <th>6</th>\n",
       "      <td>0.22282</td>\n",
       "      <td>0.73625</td>\n",
       "      <td>0.036810</td>\n",
       "    </tr>\n",
       "    <tr>\n",
       "      <th>7</th>\n",
       "      <td>0.25465</td>\n",
       "      <td>0.87270</td>\n",
       "      <td>0.043640</td>\n",
       "    </tr>\n",
       "    <tr>\n",
       "      <th>8</th>\n",
       "      <td>0.28648</td>\n",
       "      <td>1.00150</td>\n",
       "      <td>0.050075</td>\n",
       "    </tr>\n",
       "    <tr>\n",
       "      <th>9</th>\n",
       "      <td>0.31831</td>\n",
       "      <td>1.06840</td>\n",
       "      <td>0.053420</td>\n",
       "    </tr>\n",
       "  </tbody>\n",
       "</table>\n",
       "</div>"
      ],
      "text/plain": [
       "    x_data   y_data   dy_data\n",
       "0  0.03183  0.31694  0.015850\n",
       "1  0.06366  0.33844  0.016920\n",
       "2  0.09549  0.42142  0.021070\n",
       "3  0.12732  0.57709  0.028850\n",
       "4  0.15915  0.56218  0.028110\n",
       "5  0.19099  0.68851  0.034430\n",
       "6  0.22282  0.73625  0.036810\n",
       "7  0.25465  0.87270  0.043640\n",
       "8  0.28648  1.00150  0.050075\n",
       "9  0.31831  1.06840  0.053420"
      ]
     },
     "metadata": {},
     "output_type": "display_data"
    }
   ],
   "source": [
    "# Reading in the data\n",
    "names = ['x_data', 'y_data', 'dy_data']\n",
    "url = \"https://arxiv.org/src/1511.03618v3/anc/D1_c_5.dat\"\n",
    "print('Table III')\n",
    "data = pandas.read_csv(url, names=names, sep='\\t+', engine='python', comment='#')\n",
    "display(data)"
   ]
  },
  {
   "cell_type": "code",
   "execution_count": 3,
   "metadata": {},
   "outputs": [
    {
     "name": "stdout",
     "output_type": "stream",
     "text": [
      "[0.03183 0.06366 0.09549 0.12732 0.15915 0.19099 0.22282 0.25465 0.28648\n",
      " 0.31831]\n",
      "[0.31694 0.33844 0.42142 0.57709 0.56218 0.68851 0.73625 0.8727  1.0015\n",
      " 1.0684 ]\n",
      "[0.01585  0.01692  0.02107  0.02885  0.02811  0.03443  0.03681  0.04364\n",
      " 0.050075 0.05342 ]\n"
     ]
    }
   ],
   "source": [
    "x_data = data['x_data'].to_numpy()\n",
    "y_data = data['y_data'].to_numpy()\n",
    "dy_data = data['dy_data'].to_numpy()\n",
    "print(x_data)\n",
    "print(y_data)\n",
    "print(dy_data)"
   ]
  },
  {
   "cell_type": "code",
   "execution_count": 73,
   "metadata": {},
   "outputs": [],
   "source": [
    "#The function chosen in section III. DIAGNOSTICS AND PROCEDURES FOR PARAMETER ESTIMATION\n",
    "def g_fun(x_points, percent_error_ = 0.05):\n",
    "    noise = (1.0 + stats.norm.rvs(0.0, percent_error_, size=np.size(x)))\n",
    "    return ((0.5 + np.tan(np.pi * x / 2.))**2) * noise"
   ]
  },
  {
   "cell_type": "code",
   "execution_count": 6,
   "metadata": {},
   "outputs": [],
   "source": [
    "def y_model(x_pts, theta, orders=None):    \n",
    "    if orders is None:   # use the full theta vector\n",
    "        orders = len(theta)\n",
    "    \n",
    "    return np.array( [ np.sum(\n",
    "                               [theta[i] * x**i for i in range(orders)]\n",
    "                             ) for x in x_pts ] )\n",
    "    \n",
    "def y_model_a(x_pts, theta, orders=None):\n",
    "    if orders is None:   # use the number of coefficients in the full theta vector\n",
    "        orders = theta.shape[-1]\n",
    "        \n",
    "    # Create array from theta with the desired number of coefficients\n",
    "    # should work with both 1- and 2-dim theta arrays\n",
    "    theta = np.take(theta, range(orders), axis=-1)\n",
    "    \n",
    "    m=len(x_pts)\n",
    "    X_d = np.ones((m, 1))\n",
    "    for p in range(orders-1):\n",
    "        X_d = np.hstack((X_d, x_pts.reshape(m,1)**(p+1) ) )\n",
    "    \n",
    "    return theta.dot(X_d.T)"
   ]
  },
  {
   "cell_type": "code",
   "execution_count": 78,
   "metadata": {},
   "outputs": [
    {
     "data": {
      "image/png": "[encoded data removed]",
      "text/plain": [
       "<Figure size 1080x576 with 1 Axes>"
      ]
     },
     "metadata": {
      "needs_background": "light"
     },
     "output_type": "display_data"
    }
   ],
   "source": [
    "fig = plt.figure(figsize=(15,8))\n",
    "ax = fig.add_subplot(1,1,1)\n",
    "ax.errorbar(x_data_pts, y_data_pts, dy_data, fmt='o')\n",
    "ax.set_xlabel(r'x')\n",
    "ax.set_ylabel(r'g(x)')\n",
    "ax.set_xlim(0, 0.75)\n",
    "ax.set_ylim(0, 2)\n",
    "theta_true = np.array([0.25, 1.57, 2.47, 1.29, 4.06,1.28, 5.67])\n",
    "x_points = np.arange(0., 1., .01)\n",
    "ax.plot(x_pts_all, g_fun(x_points, percent_error_=0), color='green', alpha=0.5, label='exact')\n",
    "ax.set_title('Toy function w/ terms in expansion')\n",
    "colors = ['c', 'b', 'g', 'r', 'm', 'k', 'p']\n",
    "\n",
    "num_dim = 4\n",
    "for order in range(num_dim):\n",
    "    ax.plot(x_pts_all, y_model(x_pts_all, theta_true[:num_dim], order+1), label=f'order {order:d}', color=colors[order], alpha=0.8)\n",
    "ax.legend()\n",
    "\n",
    "fig.tight_layout()"
   ]
  },
  {
   "cell_type": "markdown",
   "metadata": {},
   "source": [
    "# Model"
   ]
  },
  {
   "cell_type": "code",
   "execution_count": 55,
   "metadata": {},
   "outputs": [],
   "source": [
    "def log_likelihood(x_data, y_data, dy, theta):\n",
    "    y_th = y_model(x_data, theta)\n",
    "    return -0.5 * np.sum( np.log(2 * np.pi * dy ** 2) +\n",
    "                          (y_data - y_th) ** 2 / dy ** 2)\n",
    "\n",
    "def log_uniform_prior(theta, a_max=500.):\n",
    "    if np.all(np.abs(theta) <= a_max):        \n",
    "        return 0\n",
    "    else:\n",
    "        return -np.inf\n",
    "\n",
    "def log_gaussian_prior(theta, a_bar=5.):\n",
    "    value = 0\n",
    "    for i in np.arange(0,np.size(theta)):\n",
    "        value += -0.5*((i+1)*np.log(2*np.pi*a_bar**2) + theta[i]**2/a_bar**2)\n",
    "    \n",
    "    return value\n",
    "\n",
    "def log_posterior(theta, x_data, y_data, dy, log_prior=log_gaussian_prior):\n",
    "    return log_prior(theta) + log_likelihood(x_data, y_data, dy, theta)\n",
    "\n"
   ]
  },
  {
   "cell_type": "markdown",
   "metadata": {},
   "source": [
    "## Results"
   ]
  },
  {
   "cell_type": "code",
   "execution_count": 81,
   "metadata": {},
   "outputs": [],
   "source": [
    "def example_posterior(num_dim, n_walkers=50, n_steps=1500, prior=log_gaussian_prior, output=True):\n",
    "    \n",
    "    n_burn = 1000  \n",
    "    starting_guesses = np.random.rand(n_walkers,num_dim)\n",
    "    #     starting_guesses = np.random.rand(nwalkers,ndim)\n",
    "    sampler = emcee.EnsembleSampler(n_walkers, num_dim, log_posterior, args=[x_data_pts, y_data_pts, dy_data, \\\n",
    "                                                                           log_gaussian_prior])\n",
    "    \n",
    "    pos, prob, state = sampler.run_mcmc(starting_guesses, n_burn)\n",
    "    sampler.reset()\n",
    "    \n",
    "    sampler.run_mcmc(pos, n_steps)\n",
    "    \n",
    "    text = \"Mean acceptance fraction: {0:.3f} (in total {1} steps)\".format(np.mean(sampler.acceptance_fraction),n_walkers*n_steps)\n",
    "    if output==True:\n",
    "        print(text)\n",
    "    \n",
    "    samples = sampler.chain.reshape((-1, num_dim))\n",
    "    \n",
    "    return samples, starting_guesses, sampler"
   ]
  },
  {
   "cell_type": "code",
   "execution_count": 82,
   "metadata": {},
   "outputs": [],
   "source": [
    "def corner_plot(num_dim, samples, theta_true):\n",
    "    label_corners = []\n",
    "    for i in range(num_dim):\n",
    "        labels = f'a{order}'\n",
    "        label_corners.append(labels)\n",
    "    fig = corner.corner(samples, labels=label_corners, \n",
    "                        truths=theta_true[:num_dim], quantiles=[0.16, 0.5, 0.84],\n",
    "                        show_titles=True, title_kwargs={\"fontsize\": 15})\n",
    "    \n",
    "def quantiles(num_dim, samples):\n",
    "    upper = np.zeros(num_dim)\n",
    "    middle = np.zeros(num_dim)\n",
    "    lower = np.zeros(num_dim)\n",
    "    for i in range(num_dim):\n",
    "        mcmc = np.percentile(samples[:, i], [16, 50, 84])\n",
    "        lower[i], upper[i]  = np.diff(mcmc)\n",
    "        middle[i] = mcmc[1]\n",
    "    return middle, upper, lower\n"
   ]
  },
  {
   "cell_type": "code",
   "execution_count": null,
   "metadata": {
    "scrolled": false
   },
   "outputs": [],
   "source": [
    "# Figure 1 Uniform Gaussian Prior\n",
    "num_dim = 4\n",
    "samples, start_guesses, sampler = example_posterior(num_dim) \n",
    "#starting_guesses_histogram(start_guesses)   \n",
    "corner_plot(num_dim, samples, theta_true)"
   ]
  },
  {
   "cell_type": "code",
   "execution_count": null,
   "metadata": {
    "scrolled": false
   },
   "outputs": [],
   "source": [
    "# Figure 1 Naturalness Gaussian Prior\n",
    "num_dim = 4\n",
    "samples, start_guesses, sampler = example_posterior(num_dim, log_gaussian_prior) \n",
    "corner_plot(num_dim, samples, theta_true)"
   ]
  },
  {
   "cell_type": "markdown",
   "metadata": {},
   "source": [
    "## Table III "
   ]
  },
  {
   "cell_type": "code",
   "execution_count": 72,
   "metadata": {
    "scrolled": true
   },
   "outputs": [
    {
     "name": "stdout",
     "output_type": "stream",
     "text": [
      "Uniform prior  in the format: k_max, a0, a1, a2, a3\n",
      "0.46+0.01-0.01 \n",
      "0.20+0.01-0.01 2.32+0.10-0.10 \n",
      "0.27+0.02-0.02 0.90+0.37-0.36 4.84+1.18-1.19 \n",
      "0.27+0.02-0.02 1.01+0.42-0.43 3.95+2.28-2.27 \n",
      "0.27+0.02-0.02 1.01+0.44-0.43 3.92+2.33-2.35 \n",
      "0.27+0.02-0.02 1.01+0.47-0.47 4.06+2.36-2.48 \n",
      "0.27+0.02-0.02 1.02+0.44-0.44 3.84+2.39-2.32 \n",
      "Gaussian prior  in the format k_max, a0, a1, a2, a3\n",
      "0 0.46+0.01-0.01 \n",
      "1 0.20+0.01-0.01 2.32+0.10-0.10 \n",
      "2 0.27+0.02-0.02 0.90+0.38-0.36 4.84+1.21-1.22 \n",
      "3 0.27+0.02-0.02 0.99+0.45-0.44 4.08+2.25-2.33 \n",
      "4 0.27+0.02-0.02 1.01+0.45-0.44 3.90+2.41-2.33 \n",
      "5 0.27+0.02-0.02 1.01+0.44-0.44 3.81+2.40-2.25 \n",
      "6 0.27+0.02-0.02 1.03+0.45-0.46 3.81+2.47-2.37 \n"
     ]
    }
   ],
   "source": [
    "# Uniform prior\n",
    "print('Uniform prior  in the format: k_max, a0, a1, a2, a3')\n",
    "for num_dim in np.arange(1,8):\n",
    "    samples, dummy1, dummy2 = example_posterior(num_dim, prior=log_uniform_prior, output=False) \n",
    "    middle, upper, lower = quantiles(num_dim, samples)\n",
    "    k_max = num_dim - 1\n",
    "    for i in np.arange(num_dim):\n",
    "        if (i == 3):\n",
    "            break\n",
    "        print(f'{middle[i]:.2f}+{upper[i]:.2f}-{lower[i]:.2f} ', end='')\n",
    "    print()\n",
    "\n",
    "# Gaussian prior\n",
    "print('Gaussian prior  in the format k_max, a0, a1, a2, a3')\n",
    "for num_dim in np.arange(1,8):\n",
    "    samples, dummy1, dummy2 = example_posterior(num_dim, prior=log_uniform_prior, output=False) \n",
    "    middle, upper, lower = quantiles(num_dim, samples)\n",
    "    k_max = num_dim - 1\n",
    "    print(f'{k_max} ', end='')\n",
    "    for i in np.arange(num_dim):\n",
    "        if (i == 3):\n",
    "            break\n",
    "        print(f'{middle[i]:.2f}+{upper[i]:.2f}-{lower[i]:.2f} ', end='')\n",
    "    print()"
   ]
  }
 ],
 "metadata": {
  "kernelspec": {
   "display_name": "Python 3",
   "language": "python",
   "name": "python3"
  },
  "language_info": {
   "codemirror_mode": {
    "name": "ipython",
    "version": 3
   },
   "file_extension": ".py",
   "mimetype": "text/x-python",
   "name": "python",
   "nbconvert_exporter": "python",
   "pygments_lexer": "ipython3",
   "version": "3.7.3"
  }
 },
 "nbformat": 4,
 "nbformat_minor": 2
}
